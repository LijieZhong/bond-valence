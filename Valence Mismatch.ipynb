{
 "cells": [
  {
   "cell_type": "code",
   "execution_count": 1,
   "metadata": {},
   "outputs": [],
   "source": [
    "import numpy as np, itertools as itr"
   ]
  },
  {
   "cell_type": "code",
   "execution_count": 2,
   "metadata": {},
   "outputs": [],
   "source": [
    "import ase, ase.io"
   ]
  },
  {
   "cell_type": "code",
   "execution_count": 3,
   "metadata": {},
   "outputs": [],
   "source": [
    "bvs_params = {\n",
    "    'Li':{\n",
    "        'R0': 1.1745,\n",
    "        'b' : 0.514,\n",
    "    },\n",
    "    'Na':{\n",
    "        'R0':1.5766,\n",
    "        'b': 0.475,\n",
    "    },\n",
    "}"
   ]
  },
  {
   "cell_type": "code",
   "execution_count": 4,
   "metadata": {},
   "outputs": [],
   "source": [
    "alkali = 'Na'"
   ]
  },
  {
   "cell_type": "code",
   "execution_count": 5,
   "metadata": {},
   "outputs": [],
   "source": [
    "cif = 'NYS_base_file.cif'\n",
    "#atoms = ase.io.read(cif)"
   ]
  },
  {
   "cell_type": "code",
   "execution_count": 6,
   "metadata": {},
   "outputs": [],
   "source": [
    "import mendeleev"
   ]
  },
  {
   "cell_type": "code",
   "execution_count": 7,
   "metadata": {},
   "outputs": [],
   "source": [
    "class Ions:\n",
    "    \n",
    "    def __init__(self,atoms,ionLabel):\n",
    "        self.atomicNumber = mendeleev.element(ionLabel).atomic_number\n",
    "        self.atoms = atoms[atoms.numbers==self.atomicNumber]\n",
    "        self.scaledPositions = self.atoms.get_scaled_positions().copy()\n",
    "        self.unscaledPositions = np.inner(self.scaledPositions,self.atoms.cell.T)\n",
    "        \n",
    "    def get_ionsWithinCutoff(self,position,cutoff):\n",
    "        lowerBoundary = position - cutoff\n",
    "        upperBoundary = position + cutoff\n",
    "        withinBoundary = np.all(((self.unscaledPositions < upperBoundary) & (self.unscaledPositions > lowerBoundary)),axis=1)\n",
    "        return self.unscaledPositions[withinBoundary] # counter ions\n",
    "    "
   ]
  },
  {
   "cell_type": "code",
   "execution_count": 8,
   "metadata": {},
   "outputs": [],
   "source": [
    "class UnitCell:\n",
    "    def __init__(self,cif):\n",
    "        self.atoms = ase.io.read(cif)\n",
    "        self.latticeParameters = np.linalg.norm(self.atoms.cell,axis=1)\n",
    "        self.latticeVectors = self.atoms.cell\n",
    "    def get_ionOfType(self,ionLabel):\n",
    "        ions = Ions(atoms = self.atoms, ionLabel=ionLabel)\n",
    "        return ions"
   ]
  },
  {
   "cell_type": "code",
   "execution_count": 9,
   "metadata": {},
   "outputs": [],
   "source": [
    "unitCell = UnitCell(cif)\n",
    "\n",
    "mainIons = unitCell.get_ionOfType(alkali)\n",
    "counterIons = unitCell.get_ionOfType('O')"
   ]
  },
  {
   "cell_type": "code",
   "execution_count": 10,
   "metadata": {},
   "outputs": [],
   "source": [
    "dx,dy,dz = 0.4,0.4,0.4\n",
    "resolution = np.array([dx,dy,dz])"
   ]
  },
  {
   "cell_type": "code",
   "execution_count": 11,
   "metadata": {},
   "outputs": [],
   "source": [
    "sizeOfValenceMismatchArray = tuple((unitCell.latticeParameters / resolution).astype(int))\n",
    "valenceMismatch = np.ones(sizeOfValenceMismatchArray)"
   ]
  },
  {
   "cell_type": "code",
   "execution_count": 12,
   "metadata": {},
   "outputs": [],
   "source": [
    "def include_atomsFrom_nns_unitCells(scaledPositions):\n",
    "    nnsCoordinates = [np.array(i) for i in itr.product([-1,0,1],repeat=3)]\n",
    "    totalAtomsIncludingNNS = np.concatenate([scaledPositions + nnsCoordinate for nnsCoordinate in nnsCoordinates])\n",
    "    return totalAtomsIncludingNNS"
   ]
  },
  {
   "cell_type": "code",
   "execution_count": 13,
   "metadata": {},
   "outputs": [],
   "source": [
    "counterIons.scaledPositions = include_atomsFrom_nns_unitCells( counterIons.scaledPositions )"
   ]
  },
  {
   "cell_type": "code",
   "execution_count": 14,
   "metadata": {},
   "outputs": [],
   "source": [
    "counterIons.unscaledPositions = np.inner(counterIons.scaledPositions,unitCell.latticeVectors.T)"
   ]
  },
  {
   "cell_type": "code",
   "execution_count": 15,
   "metadata": {},
   "outputs": [],
   "source": [
    "from numpy import ravel_multi_index as rav"
   ]
  },
  {
   "cell_type": "code",
   "execution_count": 16,
   "metadata": {},
   "outputs": [],
   "source": [
    "cutoffRadii = 6."
   ]
  },
  {
   "cell_type": "code",
   "execution_count": 17,
   "metadata": {},
   "outputs": [],
   "source": [
    "R0 = bvs_params[alkali]['R0']\n",
    "b = bvs_params[alkali]['b']"
   ]
  },
  {
   "cell_type": "code",
   "execution_count": 18,
   "metadata": {},
   "outputs": [],
   "source": [
    "numberOfVoxels = len(valenceMismatch.flatten())\n",
    "\n",
    "for voxelFlatIndex in range(numberOfVoxels):\n",
    "    voxelTupleIndex = np.unravel_index(voxelFlatIndex,valenceMismatch.shape)\n",
    "    # I don't understand this\n",
    "    voxelScaledPosition = (2*np.array(voxelTupleIndex)+1.)/(2*np.array([valenceMismatch.shape]).astype(float))[0]\n",
    "    voxelUnscaledPosition = np.dot(unitCell.latticeVectors.T,voxelScaledPosition)\n",
    "    \n",
    "    counterIonsWithinCutoff = counterIons.get_ionsWithinCutoff(position=voxelUnscaledPosition,cutoff=cutoffRadii)\n",
    "   \n",
    "    distanceToCounterIons = np.linalg.norm(counterIonsWithinCutoff-voxelUnscaledPosition,axis=1)\n",
    "    Ri = distanceToCounterIons\n",
    "    Ri = Ri[Ri<cutoffRadii]\n",
    "    \n",
    "    valenceMismatch[voxelTupleIndex] = np.abs( np.sum( np.exp((R0-Ri)/b) ) - 1 )\n",
    "    "
   ]
  },
  {
   "cell_type": "code",
   "execution_count": 20,
   "metadata": {},
   "outputs": [],
   "source": [
    "output_filename = './grds/NYS_Mismatch.grd'\n",
    "\n",
    "#output_filename = cif.split('.')[0] + '.grd'\n",
    "with open(output_filename,\"w\") as savefile:\n",
    "    savefile.write(\"Bond Valence Sum Difference\\r\") # Title\n",
    "    from ase.geometry import cell_to_cellpar\n",
    "    cellParams = cell_to_cellpar(unitCell.latticeVectors) # get ABC alpha, beta, gamma\n",
    "    savefile.write(\" \".join([str(k) for k in cellParams])+\"\\r\" )\n",
    "    savefile.write(\" \".join([str(k) for k in valenceMismatch.shape])+\"\\r\" )\n",
    "    for i in np.nditer(valenceMismatch.flatten()):\n",
    "        savefile.write(\"%.6f  \"%(i)) # Write each valence difference value"
   ]
  },
  {
   "cell_type": "code",
   "execution_count": null,
   "metadata": {},
   "outputs": [],
   "source": []
  },
  {
   "cell_type": "code",
   "execution_count": null,
   "metadata": {},
   "outputs": [],
   "source": []
  },
  {
   "cell_type": "code",
   "execution_count": null,
   "metadata": {},
   "outputs": [],
   "source": []
  }
 ],
 "metadata": {
  "kernelspec": {
   "display_name": "Conda Python 3",
   "language": "python",
   "name": "python3"
  },
  "language_info": {
   "codemirror_mode": {
    "name": "ipython",
    "version": 3
   },
   "file_extension": ".py",
   "mimetype": "text/x-python",
   "name": "python",
   "nbconvert_exporter": "python",
   "pygments_lexer": "ipython3",
   "version": "3.7.0"
  }
 },
 "nbformat": 4,
 "nbformat_minor": 2
}
