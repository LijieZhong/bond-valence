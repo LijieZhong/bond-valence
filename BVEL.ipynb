{
 "cells": [
  {
   "cell_type": "code",
   "execution_count": 7,
   "metadata": {},
   "outputs": [],
   "source": [
    "import sys\n",
    "sys.path.append('/Users/Jack/data/bvs/python')"
   ]
  },
  {
   "cell_type": "code",
   "execution_count": 8,
   "metadata": {},
   "outputs": [],
   "source": [
    "import numpy as np, pylab as plt, pandas as pd\n",
    "import mendeleev\n",
    "from numpy import ravel_multi_index as rav\n",
    "from scipy.special import erfc\n",
    "from BVEL_config import atomicNumbers, atomicSymbols, principleQuantumNumbers, covalentRadii\n",
    "from BVEL import UnitCell, BVEL_params"
   ]
  },
  {
   "cell_type": "code",
   "execution_count": 9,
   "metadata": {},
   "outputs": [],
   "source": [
    "c = 'nhs'"
   ]
  },
  {
   "cell_type": "code",
   "execution_count": 10,
   "metadata": {},
   "outputs": [],
   "source": [
    "alk = 'Na'"
   ]
  },
  {
   "cell_type": "code",
   "execution_count": 11,
   "metadata": {},
   "outputs": [],
   "source": [
    "#lookup_lanthanide = {'lts':'Tb','lhs':'Ho','lys':'Y','les':'Er'}\n",
    "lookup_lanthanide = {'nts':'Tb','nhs':'Ho','nys':'Y','nes':'Er'}"
   ]
  },
  {
   "cell_type": "code",
   "execution_count": 12,
   "metadata": {},
   "outputs": [],
   "source": [
    "cif = '{}_neutron.cif'.format(c.upper())\n",
    "cutoffRadii = 6.\n",
    "dx,dy,dz = 0.1,0.1,0.1"
   ]
  },
  {
   "cell_type": "code",
   "execution_count": 13,
   "metadata": {},
   "outputs": [
    {
     "name": "stderr",
     "output_type": "stream",
     "text": [
      "/Users/Jack/code/miniconda3/lib/python3.7/site-packages/ase/io/cif.py:125: UserWarning: Wrong number of tokens: ['?', \"#<--'Last\", 'name,', 'first', \"name'\"]\n",
      "  warnings.warn('Wrong number of tokens: {0}'.format(tokens))\n"
     ]
    }
   ],
   "source": [
    "ionChargeDict = {lookup_lanthanide[c]:3, alk:1, 'O':-2, 'Si':4,}\n",
    "\n",
    "unitCell = UnitCell(cif,charges=ionChargeDict)\n",
    "testIons = unitCell.get_ionOfType(alk)\n",
    "negativeIons = unitCell.get_ionOfType('O')\n",
    "positiveIons = unitCell.get_counterCations(alk)"
   ]
  },
  {
   "cell_type": "code",
   "execution_count": 14,
   "metadata": {},
   "outputs": [],
   "source": [
    "resolution = np.array([dx,dy,dz])\n",
    "sizeOfValenceMismatchArray = tuple((unitCell.latticeParameters / resolution).astype(int))\n",
    "BVEL = np.ones(sizeOfValenceMismatchArray)"
   ]
  },
  {
   "cell_type": "code",
   "execution_count": 15,
   "metadata": {},
   "outputs": [],
   "source": [
    "D0, a, Rmin, R0 = BVEL_params.loc[\n",
    "    (testIons.label,testIons.charge),\n",
    "    ['D0','alpha','Rmin','R0']].values"
   ]
  },
  {
   "cell_type": "code",
   "execution_count": 16,
   "metadata": {},
   "outputs": [],
   "source": [
    "def get_oxidationState(atomicNumber):\n",
    "    return unitCell.charges[atomicSymbols[atomicNumber]]"
   ]
  },
  {
   "cell_type": "code",
   "execution_count": 17,
   "metadata": {},
   "outputs": [],
   "source": [
    "testIons.covalentRadii = covalentRadii[testIons.atomicNumber]"
   ]
  },
  {
   "cell_type": "code",
   "execution_count": 18,
   "metadata": {},
   "outputs": [],
   "source": [
    "numberOfVoxels = len(BVEL.flatten())\n",
    "for voxelFlatIndex in range(numberOfVoxels):\n",
    "#for voxelFlatIndex in range(3):    \n",
    "\n",
    "    voxelTupleIndex = np.unravel_index(voxelFlatIndex,BVEL.shape)\n",
    "    voxelScaledPosition = np.array(voxelTupleIndex)/np.array(BVEL.shape)\n",
    "    voxelUnscaledPosition = np.dot(unitCell.latticeVectors.T,voxelScaledPosition)\n",
    "    \n",
    "    # ---------- Attractive Term -----------------\n",
    "    negativeIonsInCutoff = negativeIons.get_ionsInCutoff(position=voxelUnscaledPosition,\n",
    "                                                         cutoff=cutoffRadii)\n",
    "    \n",
    "    distanceToNegativeIons = np.linalg.norm(negativeIonsInCutoff.get_positions() \\\n",
    "                                                   - voxelUnscaledPosition, axis=1)\n",
    "    Ri = distanceToNegativeIons\n",
    "    #print(len(Ri))\n",
    "    Ri = Ri[Ri<cutoffRadii]\n",
    "    #print((len(Ri)))\n",
    "    \n",
    "    Ui = D0 * ( (np.exp(a*(Rmin - Ri)) - 1 )**2 - 1 )\n",
    "    attractiveTerm = np.sum(Ui)\n",
    "    \n",
    "    # ---------- Repulsive Term -----------------\n",
    "    positiveIonsInCutoff = positiveIons.get_ionsInCutoff(position=voxelUnscaledPosition,\n",
    "                                                         cutoff=cutoffRadii)\n",
    "    \n",
    "    positiveIonsInCutoff.distance = np.linalg.norm(positiveIonsInCutoff.get_positions() \\\n",
    "                                               -voxelUnscaledPosition, axis=1)\n",
    "    Rj = positiveIonsInCutoff.distance\n",
    "    cutIndex = Rj<cutoffRadii\n",
    "    Rj = Rj[cutIndex]\n",
    "    #print(len(Rj))\n",
    "    \n",
    "    positiveIonsInCutoff.distance = positiveIonsInCutoff.distance[cutIndex]\n",
    "    \n",
    "    positiveIonsInCutoff.covalentRadii = np.array([covalentRadii[atomicNumber] \\\n",
    "                                        for atomicNumber in positiveIonsInCutoff.numbers])[cutIndex]\n",
    "\n",
    "    positiveIonsInCutoff.principleQuantumNumbers = np.array([principleQuantumNumbers[atomicNumber]\\\n",
    "                                        for atomicNumber in positiveIonsInCutoff.numbers])[cutIndex]\n",
    "    \n",
    "    positiveIonsInCutoff.oxidationStates = np.array([get_oxidationState(atomicNumber) \\\n",
    "                                        for atomicNumber in positiveIonsInCutoff.numbers])[cutIndex]\n",
    "    \n",
    "    C = 14.40198 # conversion factor = (boltzmann's constant) * (eV/J) * (meters/Angstrom)\n",
    "    d = positiveIonsInCutoff.distance\n",
    "    q = positiveIonsInCutoff.oxidationStates\n",
    "    n = positiveIonsInCutoff.principleQuantumNumbers\n",
    "    r = positiveIonsInCutoff.covalentRadii\n",
    "    p = 0.74 * (testIons.covalentRadii + r)\n",
    "    \n",
    "    Uj = C*q/(2*np.sqrt(2*n)) * (erfc(d/p) - erfc(cutoffRadii/p))\n",
    "    repulsiveTerm = np.sum( Uj )\n",
    "\n",
    "    # ------------- sum it up ---------------------\n",
    "    \n",
    "    BVEL[voxelTupleIndex] = attractiveTerm + repulsiveTerm \n",
    "    "
   ]
  },
  {
   "cell_type": "code",
   "execution_count": 19,
   "metadata": {},
   "outputs": [],
   "source": [
    "import os\n",
    "if not os.path.isdir('./grds/'):\n",
    "    os.mkdir('./grds/')"
   ]
  },
  {
   "cell_type": "code",
   "execution_count": 20,
   "metadata": {},
   "outputs": [
    {
     "data": {
      "text/plain": [
       "'NHS_neutron.cif'"
      ]
     },
     "execution_count": 20,
     "metadata": {},
     "output_type": "execute_result"
    }
   ],
   "source": [
    "cif"
   ]
  },
  {
   "cell_type": "code",
   "execution_count": 21,
   "metadata": {},
   "outputs": [],
   "source": [
    "BVEL = BVEL - BVEL.min()\n",
    "#output_filename = 'myBVEL.grd'\n",
    "\n",
    "#output_filename = 'grds/'+cif.split('.')[0].split('/')[1] + '.grd'\n",
    "output_filename = 'grds/'+cif.split('.')[0] + '_highRes.grd'\n",
    "\n",
    "with open(output_filename,\"w\") as savefile:\n",
    "    savefile.write(\"Bond Valence Sum Difference\\r\") # Title\n",
    "    from ase.geometry import cell_to_cellpar\n",
    "    cellParams = cell_to_cellpar(unitCell.latticeVectors) # get ABC alpha, beta, gamma\n",
    "    savefile.write(\" \".join([str(k) for k in cellParams])+\"\\r\" )\n",
    "    savefile.write(\" \".join([str(k) for k in BVEL.shape])+\"\\r\" )\n",
    "    for i in np.nditer(BVEL.flatten()):\n",
    "        savefile.write(\"%.6f  \"%(i)) # Write each valence difference value"
   ]
  },
  {
   "cell_type": "code",
   "execution_count": null,
   "metadata": {},
   "outputs": [],
   "source": []
  },
  {
   "cell_type": "code",
   "execution_count": null,
   "metadata": {},
   "outputs": [],
   "source": []
  }
 ],
 "metadata": {
  "kernelspec": {
   "display_name": "Conda Python 3",
   "language": "python",
   "name": "python3"
  },
  "language_info": {
   "codemirror_mode": {
    "name": "ipython",
    "version": 3
   },
   "file_extension": ".py",
   "mimetype": "text/x-python",
   "name": "python",
   "nbconvert_exporter": "python",
   "pygments_lexer": "ipython3",
   "version": "3.7.0"
  }
 },
 "nbformat": 4,
 "nbformat_minor": 2
}
