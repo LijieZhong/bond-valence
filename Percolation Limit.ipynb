{
 "cells": [
  {
   "cell_type": "code",
   "execution_count": 1,
   "metadata": {},
   "outputs": [],
   "source": [
    "import matplotlib as mpl\n",
    "mpl.rcParams['figure.facecolor'] = 'w'"
   ]
  },
  {
   "cell_type": "code",
   "execution_count": 2,
   "metadata": {},
   "outputs": [],
   "source": [
    "import numpy as np, pylab as plt, pandas as pd"
   ]
  },
  {
   "cell_type": "code",
   "execution_count": 10,
   "metadata": {},
   "outputs": [],
   "source": [
    "from scipy.ndimage import measurements\n",
    "\n",
    "def check_percolation(z):\n",
    "    featureLabels, numFeatures = measurements.label(z)\n",
    "    area = measurements.sum(z, featureLabels, index=np.arange(featureLabels.max() + 1))\n",
    "    areaImg = area[featureLabels] + featureLabels*0.01\n",
    "    sliced = measurements.find_objects(areaImg == areaImg.max())\n",
    "    cluster_dimensions = np.array([int(sliced[0][i].stop-sliced[0][i].start) for i in range(len(z.shape))])\n",
    "    doesPercolate = np.any(((cluster_dimensions/np.array(z.shape))).astype(int))\n",
    "    return doesPercolate\n",
    "\n",
    "def get_percolation_limit(valenceArray):\n",
    "    percolationLimitReached = False\n",
    "    for valenceLevel in np.arange(0.01,3,0.01):\n",
    "        valenceDoesPercolate = check_percolation( valenceArray < valenceLevel )\n",
    "        if valenceDoesPercolate:\n",
    "            percolationLimitReached = True\n",
    "            percolationLimit = valenceLevel\n",
    "            break\n",
    "    assert percolationLimitReached, 'check percolation limit'\n",
    "    return percolationLimit\n",
    "    "
   ]
  },
  {
   "cell_type": "code",
   "execution_count": 11,
   "metadata": {},
   "outputs": [],
   "source": [
    "percolationLimits = {}"
   ]
  },
  {
   "cell_type": "code",
   "execution_count": 12,
   "metadata": {},
   "outputs": [],
   "source": [
    "for c in 'nts nhs nys nes lts lhs lys les'.split():\n",
    "    \n",
    "    with open('{}_neutron.grd'.format(c.upper())) as f:\n",
    "        ct = f.readlines()\n",
    "        \n",
    "    V = np.array(ct[3].split()).astype(float)\n",
    "    lofmesh = int(round(len(V)**(1/3.),0))\n",
    "    Vshape = tuple(int(i) for i in ct[2].split())\n",
    "    V = V.reshape(Vshape)    \n",
    "    \n",
    "    percolationLimits[c] = get_percolation_limit(V)"
   ]
  },
  {
   "cell_type": "code",
   "execution_count": 13,
   "metadata": {},
   "outputs": [
    {
     "data": {
      "text/plain": [
       "{'nts': 1.8900000000000001,\n",
       " 'nhs': 1.8800000000000001,\n",
       " 'nys': 1.85,\n",
       " 'nes': 1.85,\n",
       " 'lts': 0.86,\n",
       " 'lhs': 0.87,\n",
       " 'lys': 0.93,\n",
       " 'les': 0.89}"
      ]
     },
     "execution_count": 13,
     "metadata": {},
     "output_type": "execute_result"
    }
   ],
   "source": [
    "percolationLimits"
   ]
  },
  {
   "cell_type": "code",
   "execution_count": 8,
   "metadata": {},
   "outputs": [
    {
     "ename": "KeyError",
     "evalue": "'nhs'",
     "output_type": "error",
     "traceback": [
      "\u001b[0;31m---------------------------------------------------------------------------\u001b[0m",
      "\u001b[0;31mKeyError\u001b[0m                                  Traceback (most recent call last)",
      "\u001b[0;32m<ipython-input-8-8147ec0078b1>\u001b[0m in \u001b[0;36m<module>\u001b[0;34m\u001b[0m\n\u001b[0;32m----> 1\u001b[0;31m \u001b[0mnas\u001b[0m \u001b[0;34m=\u001b[0m \u001b[0mnp\u001b[0m\u001b[0;34m.\u001b[0m\u001b[0marray\u001b[0m\u001b[0;34m(\u001b[0m\u001b[0;34m[\u001b[0m\u001b[0mpercolationLimits\u001b[0m\u001b[0;34m[\u001b[0m\u001b[0mal\u001b[0m\u001b[0;34m]\u001b[0m \u001b[0;32mfor\u001b[0m \u001b[0mal\u001b[0m \u001b[0;32min\u001b[0m \u001b[0;34m[\u001b[0m\u001b[0;34m'nts'\u001b[0m\u001b[0;34m,\u001b[0m\u001b[0;34m'nhs'\u001b[0m\u001b[0;34m,\u001b[0m\u001b[0;34m'nys'\u001b[0m\u001b[0;34m,\u001b[0m\u001b[0;34m'nes'\u001b[0m\u001b[0;34m]\u001b[0m\u001b[0;34m]\u001b[0m\u001b[0;34m)\u001b[0m\u001b[0;34m\u001b[0m\u001b[0m\n\u001b[0m\u001b[1;32m      2\u001b[0m \u001b[0mlis\u001b[0m \u001b[0;34m=\u001b[0m \u001b[0mnp\u001b[0m\u001b[0;34m.\u001b[0m\u001b[0marray\u001b[0m\u001b[0;34m(\u001b[0m\u001b[0;34m[\u001b[0m\u001b[0mpercolationLimits\u001b[0m\u001b[0;34m[\u001b[0m\u001b[0mal\u001b[0m\u001b[0;34m]\u001b[0m \u001b[0;32mfor\u001b[0m \u001b[0mal\u001b[0m \u001b[0;32min\u001b[0m \u001b[0;34m[\u001b[0m\u001b[0;34m'lts'\u001b[0m\u001b[0;34m,\u001b[0m\u001b[0;34m'lhs'\u001b[0m\u001b[0;34m,\u001b[0m\u001b[0;34m'lys'\u001b[0m\u001b[0;34m,\u001b[0m\u001b[0;34m'les'\u001b[0m\u001b[0;34m]\u001b[0m\u001b[0;34m]\u001b[0m\u001b[0;34m)\u001b[0m\u001b[0;34m\u001b[0m\u001b[0m\n\u001b[1;32m      3\u001b[0m \u001b[0mlans\u001b[0m \u001b[0;34m=\u001b[0m \u001b[0;34m[\u001b[0m\u001b[0;34m'Tb'\u001b[0m\u001b[0;34m,\u001b[0m\u001b[0;34m'Ho'\u001b[0m\u001b[0;34m,\u001b[0m\u001b[0;34m'Y'\u001b[0m\u001b[0;34m,\u001b[0m\u001b[0;34m'Er'\u001b[0m\u001b[0;34m]\u001b[0m\u001b[0;34m\u001b[0m\u001b[0m\n",
      "\u001b[0;32m<ipython-input-8-8147ec0078b1>\u001b[0m in \u001b[0;36m<listcomp>\u001b[0;34m(.0)\u001b[0m\n\u001b[0;32m----> 1\u001b[0;31m \u001b[0mnas\u001b[0m \u001b[0;34m=\u001b[0m \u001b[0mnp\u001b[0m\u001b[0;34m.\u001b[0m\u001b[0marray\u001b[0m\u001b[0;34m(\u001b[0m\u001b[0;34m[\u001b[0m\u001b[0mpercolationLimits\u001b[0m\u001b[0;34m[\u001b[0m\u001b[0mal\u001b[0m\u001b[0;34m]\u001b[0m \u001b[0;32mfor\u001b[0m \u001b[0mal\u001b[0m \u001b[0;32min\u001b[0m \u001b[0;34m[\u001b[0m\u001b[0;34m'nts'\u001b[0m\u001b[0;34m,\u001b[0m\u001b[0;34m'nhs'\u001b[0m\u001b[0;34m,\u001b[0m\u001b[0;34m'nys'\u001b[0m\u001b[0;34m,\u001b[0m\u001b[0;34m'nes'\u001b[0m\u001b[0;34m]\u001b[0m\u001b[0;34m]\u001b[0m\u001b[0;34m)\u001b[0m\u001b[0;34m\u001b[0m\u001b[0m\n\u001b[0m\u001b[1;32m      2\u001b[0m \u001b[0mlis\u001b[0m \u001b[0;34m=\u001b[0m \u001b[0mnp\u001b[0m\u001b[0;34m.\u001b[0m\u001b[0marray\u001b[0m\u001b[0;34m(\u001b[0m\u001b[0;34m[\u001b[0m\u001b[0mpercolationLimits\u001b[0m\u001b[0;34m[\u001b[0m\u001b[0mal\u001b[0m\u001b[0;34m]\u001b[0m \u001b[0;32mfor\u001b[0m \u001b[0mal\u001b[0m \u001b[0;32min\u001b[0m \u001b[0;34m[\u001b[0m\u001b[0;34m'lts'\u001b[0m\u001b[0;34m,\u001b[0m\u001b[0;34m'lhs'\u001b[0m\u001b[0;34m,\u001b[0m\u001b[0;34m'lys'\u001b[0m\u001b[0;34m,\u001b[0m\u001b[0;34m'les'\u001b[0m\u001b[0;34m]\u001b[0m\u001b[0;34m]\u001b[0m\u001b[0;34m)\u001b[0m\u001b[0;34m\u001b[0m\u001b[0m\n\u001b[1;32m      3\u001b[0m \u001b[0mlans\u001b[0m \u001b[0;34m=\u001b[0m \u001b[0;34m[\u001b[0m\u001b[0;34m'Tb'\u001b[0m\u001b[0;34m,\u001b[0m\u001b[0;34m'Ho'\u001b[0m\u001b[0;34m,\u001b[0m\u001b[0;34m'Y'\u001b[0m\u001b[0;34m,\u001b[0m\u001b[0;34m'Er'\u001b[0m\u001b[0;34m]\u001b[0m\u001b[0;34m\u001b[0m\u001b[0m\n",
      "\u001b[0;31mKeyError\u001b[0m: 'nhs'"
     ]
    }
   ],
   "source": [
    "nas = np.array([percolationLimits[al] for al in ['nts','nhs','nys','nes']])\n",
    "lis = np.array([percolationLimits[al] for al in ['lts','lhs','lys','les']])\n",
    "lans = ['Tb','Ho','Y','Er']"
   ]
  },
  {
   "cell_type": "code",
   "execution_count": null,
   "metadata": {},
   "outputs": [],
   "source": [
    "plt.rc('font', **{'family' : 'serif', 'size'   : 18})\n",
    "fig,ax = plt.subplots(1,1,figsize=(7.5,5))\n",
    "plt.setp(ax.spines.values(), linewidth=2)\n",
    "\n",
    "x = np.arange(4)\n",
    "dx = 0.4\n",
    "for n,(als,alk) in enumerate(zip([nas,lis],['Na','Li'])):\n",
    "    ax.bar(x-dx/2+dx*n,als,width=dx,label=alk)\n",
    "    \n",
    "ax.set_xticks(x)\n",
    "ax.set_xticklabels(lans)\n",
    "ax.set_ylabel('E$_a$ / eV')\n",
    "ax.set_xlabel('Lanthanide')\n",
    "\n",
    "ax.legend(loc='upper center', bbox_to_anchor=(0.85, 0.8),\n",
    "          ncol=1)\n",
    "\n",
    "plt.savefig('Ea_bar.pdf',bbox_inches='tight')"
   ]
  },
  {
   "cell_type": "code",
   "execution_count": 9,
   "metadata": {},
   "outputs": [
    {
     "ename": "NameError",
     "evalue": "name 'x' is not defined",
     "output_type": "error",
     "traceback": [
      "\u001b[0;31m---------------------------------------------------------------------------\u001b[0m",
      "\u001b[0;31mNameError\u001b[0m                                 Traceback (most recent call last)",
      "\u001b[0;32m<ipython-input-9-68e1028ba817>\u001b[0m in \u001b[0;36m<module>\u001b[0;34m\u001b[0m\n\u001b[1;32m      3\u001b[0m \u001b[0mplt\u001b[0m\u001b[0;34m.\u001b[0m\u001b[0msetp\u001b[0m\u001b[0;34m(\u001b[0m\u001b[0max\u001b[0m\u001b[0;34m.\u001b[0m\u001b[0mspines\u001b[0m\u001b[0;34m.\u001b[0m\u001b[0mvalues\u001b[0m\u001b[0;34m(\u001b[0m\u001b[0;34m)\u001b[0m\u001b[0;34m,\u001b[0m \u001b[0mlinewidth\u001b[0m\u001b[0;34m=\u001b[0m\u001b[0;36m2\u001b[0m\u001b[0;34m)\u001b[0m\u001b[0;34m\u001b[0m\u001b[0m\n\u001b[1;32m      4\u001b[0m \u001b[0;34m\u001b[0m\u001b[0m\n\u001b[0;32m----> 5\u001b[0;31m \u001b[0max\u001b[0m\u001b[0;34m.\u001b[0m\u001b[0mplot\u001b[0m\u001b[0;34m(\u001b[0m\u001b[0mx\u001b[0m\u001b[0;34m,\u001b[0m\u001b[0mnas\u001b[0m\u001b[0;34m,\u001b[0m\u001b[0;34m'-o'\u001b[0m\u001b[0;34m,\u001b[0m\u001b[0mlabel\u001b[0m\u001b[0;34m=\u001b[0m\u001b[0;34m'Na'\u001b[0m\u001b[0;34m,\u001b[0m\u001b[0mms\u001b[0m\u001b[0;34m=\u001b[0m\u001b[0;36m12\u001b[0m\u001b[0;34m)\u001b[0m\u001b[0;34m\u001b[0m\u001b[0m\n\u001b[0m\u001b[1;32m      6\u001b[0m \u001b[0max2\u001b[0m \u001b[0;34m=\u001b[0m \u001b[0max\u001b[0m\u001b[0;34m.\u001b[0m\u001b[0mtwinx\u001b[0m\u001b[0;34m(\u001b[0m\u001b[0;34m)\u001b[0m\u001b[0;34m\u001b[0m\u001b[0m\n\u001b[1;32m      7\u001b[0m \u001b[0max2\u001b[0m\u001b[0;34m.\u001b[0m\u001b[0mplot\u001b[0m\u001b[0;34m(\u001b[0m\u001b[0mx\u001b[0m\u001b[0;34m,\u001b[0m\u001b[0mlis\u001b[0m\u001b[0;34m,\u001b[0m\u001b[0;34m'-o'\u001b[0m\u001b[0;34m,\u001b[0m\u001b[0mcolor\u001b[0m\u001b[0;34m=\u001b[0m\u001b[0;34m'C1'\u001b[0m\u001b[0;34m,\u001b[0m\u001b[0mlabel\u001b[0m\u001b[0;34m=\u001b[0m\u001b[0;34m'Li'\u001b[0m\u001b[0;34m,\u001b[0m\u001b[0mms\u001b[0m\u001b[0;34m=\u001b[0m\u001b[0;36m12\u001b[0m\u001b[0;34m)\u001b[0m\u001b[0;34m\u001b[0m\u001b[0m\n",
      "\u001b[0;31mNameError\u001b[0m: name 'x' is not defined"
     ]
    },
    {
     "data": {
      "image/png": "[encoded data removed]",
      "text/plain": [
       "<Figure size 540x360 with 1 Axes>"
      ]
     },
     "metadata": {
      "needs_background": "light"
     },
     "output_type": "display_data"
    }
   ],
   "source": [
    "plt.rc('font', **{'family' : 'serif', 'size'   : 18})\n",
    "fig,ax = plt.subplots(1,1,figsize=(7.5,5))\n",
    "plt.setp(ax.spines.values(), linewidth=2)\n",
    "\n",
    "ax.plot(x,nas,'-o',label='Na',ms=12)\n",
    "ax2 = ax.twinx()\n",
    "ax2.plot(x,lis,'-o',color='C1',label='Li',ms=12)\n",
    "\n",
    "ax.set_xticks(x)\n",
    "ax.set_xticklabels(lans)\n",
    "\n",
    "ax.legend(loc=6)\n",
    "ax2.legend(loc=1)\n",
    "ax.spines['left'].set_color('C0')\n",
    "ax2.spines['left'].set_color('C0')\n",
    "ax.spines['right'].set_color('C1')\n",
    "ax2.spines['right'].set_color('C1')\n",
    "#ax.yaxis.label.set_color('C0')\n",
    "#ax2.yaxis.label.set_color('C1')\n",
    "ax.tick_params(axis='y', colors='C0')\n",
    "ax2.tick_params(axis='y', colors='C1')\n",
    "\n",
    "ax.set_ylabel('E$_a$ / eV')\n",
    "ax2.set_ylabel('E$_a$ / eV')\n",
    "ax.set_xlabel('Lanthanide')\n",
    "\n",
    "plt.savefig('BVEL_Ea.pdf',bbox_inches='tight')"
   ]
  },
  {
   "cell_type": "code",
   "execution_count": 199,
   "metadata": {},
   "outputs": [],
   "source": [
    "ionicRadii = {'Gd':0.938,'Tb':0.923, 'Dy':0.912, 'Ho':0.901, 'Y':0.9, 'Er':0.89, 'Yb':0.868, 'Lu':0.861}\n",
    "\n",
    "lnNames = 'Tb Ho Y Er'.split()\n",
    "\n",
    "na_compounds = 'nts nhs nys nes'.split()\n",
    "na_dirnames = {c:'newIrf_rietveld' for c in na_compounds}\n",
    "na_lns = {c:{'ln':ln,'alk':'Na'} for (c,ln) in zip(na_compounds,lnNames)}\n",
    "\n",
    "li_compounds = 'lts lhs lys les'.split()\n",
    "li_dirnames = {c:'aClean' for c in li_compounds}\n",
    "li_lns = {c:{'ln':ln,'alk':'Li'} for (c,ln) in zip(li_compounds,lnNames)}\n",
    "\n",
    "info = {**na_lns,**li_lns}\n",
    "\n",
    "compounds = na_compounds + li_compounds\n",
    "dirname = {**na_dirnames,**li_dirnames}"
   ]
  },
  {
   "cell_type": "code",
   "execution_count": 202,
   "metadata": {},
   "outputs": [
    {
     "data": {
      "text/plain": [
       "[<matplotlib.lines.Line2D at 0x1214d9e80>]"
      ]
     },
     "execution_count": 202,
     "metadata": {},
     "output_type": "execute_result"
    },
    {
     "data": {
      "image/png": "[encoded data removed]",
      "text/plain": [
       "<Figure size 432x288 with 1 Axes>"
      ]
     },
     "metadata": {},
     "output_type": "display_data"
    }
   ],
   "source": [
    "plt.plot(ionicRadii.values(),'o')"
   ]
  },
  {
   "cell_type": "code",
   "execution_count": 203,
   "metadata": {},
   "outputs": [],
   "source": [
    "for c in ['lgs','lds','ngs','nds']:\n",
    "    \n",
    "    with open('{}_neutron.grd'.format(c.upper())) as f:\n",
    "        ct = f.readlines()\n",
    "        \n",
    "    V = np.array(ct[3].split()).astype(float)\n",
    "    lofmesh = int(round(len(V)**(1/3.),0))\n",
    "    Vshape = tuple(int(i) for i in ct[2].split())\n",
    "    V = V.reshape(Vshape)    \n",
    "    \n",
    "    percolationLimits[c] = get_percolation_limit(V)"
   ]
  },
  {
   "cell_type": "code",
   "execution_count": null,
   "metadata": {},
   "outputs": [],
   "source": []
  },
  {
   "cell_type": "code",
   "execution_count": 204,
   "metadata": {},
   "outputs": [],
   "source": [
    "nas = np.array([percolationLimits[al] for al in ['ngs','nts','nds','nhs','nes']])\n",
    "lis = np.array([percolationLimits[al] for al in ['lgs','lts','lds','lhs','les']])\n",
    "lans = ['Gd','Tb','Dy','Ho','Er']"
   ]
  },
  {
   "cell_type": "code",
   "execution_count": 207,
   "metadata": {},
   "outputs": [
    {
     "data": {
      "image/png": "[encoded data removed]",
      "text/plain": [
       "<Figure size 540x360 with 2 Axes>"
      ]
     },
     "metadata": {},
     "output_type": "display_data"
    }
   ],
   "source": [
    "plt.rc('font', **{'family' : 'serif', 'size'   : 18})\n",
    "fig,ax = plt.subplots(1,1,figsize=(7.5,5))\n",
    "plt.setp(ax.spines.values(), linewidth=2)\n",
    "\n",
    "x = np.arange(5)\n",
    "ax.plot(x,nas,'-o',label='Na',ms=12)\n",
    "ax2 = ax.twinx()\n",
    "ax2.plot(x,lis,'-o',color='C1',label='Li',ms=12)\n",
    "\n",
    "ax.set_xticks(x)\n",
    "ax.set_xticklabels(lans)\n",
    "\n",
    "ax.legend(loc=6)\n",
    "ax2.legend(loc=1)\n",
    "ax.spines['left'].set_color('C0')\n",
    "ax2.spines['left'].set_color('C0')\n",
    "ax.spines['right'].set_color('C1')\n",
    "ax2.spines['right'].set_color('C1')\n",
    "#ax.yaxis.label.set_color('C0')\n",
    "#ax2.yaxis.label.set_color('C1')\n",
    "ax.tick_params(axis='y', colors='C0')\n",
    "ax2.tick_params(axis='y', colors='C1')\n",
    "\n",
    "ax.set_ylabel('E$_a$ / eV')\n",
    "ax2.set_ylabel('E$_a$ / eV')\n",
    "ax.set_xlabel('Lanthanide')\n",
    "\n",
    "plt.savefig('BVEL_Ea_mod.pdf',bbox_inches='tight')"
   ]
  },
  {
   "cell_type": "code",
   "execution_count": null,
   "metadata": {},
   "outputs": [],
   "source": []
  },
  {
   "cell_type": "code",
   "execution_count": null,
   "metadata": {},
   "outputs": [],
   "source": []
  },
  {
   "cell_type": "code",
   "execution_count": null,
   "metadata": {},
   "outputs": [],
   "source": []
  },
  {
   "cell_type": "code",
   "execution_count": 130,
   "metadata": {},
   "outputs": [],
   "source": [
    "import pickle"
   ]
  },
  {
   "cell_type": "code",
   "execution_count": 131,
   "metadata": {},
   "outputs": [],
   "source": [
    "#with open('percolation_limits.pkl','wb') as f:\n",
    "#    pickle.dump(percolationLimits,f)"
   ]
  },
  {
   "cell_type": "code",
   "execution_count": 142,
   "metadata": {},
   "outputs": [],
   "source": [
    "with open('NHS_neutron.grd') as f:\n",
    "    ct = f.readlines()"
   ]
  },
  {
   "cell_type": "code",
   "execution_count": 143,
   "metadata": {},
   "outputs": [],
   "source": [
    "V = np.array(ct[3].split()).astype(float)\n",
    "lofmesh = int(round(len(V)**(1/3.),0))\n",
    "Vshape = tuple(int(i) for i in ct[2].split())\n",
    "V = V.reshape(Vshape)    "
   ]
  },
  {
   "cell_type": "code",
   "execution_count": 147,
   "metadata": {},
   "outputs": [
    {
     "data": {
      "text/plain": [
       "True"
      ]
     },
     "execution_count": 147,
     "metadata": {},
     "output_type": "execute_result"
    }
   ],
   "source": [
    "check_percolation(V<1.88)"
   ]
  },
  {
   "cell_type": "code",
   "execution_count": null,
   "metadata": {},
   "outputs": [],
   "source": []
  }
 ],
 "metadata": {
  "kernelspec": {
   "display_name": "Conda Python 3",
   "language": "python",
   "name": "python3"
  },
  "language_info": {
   "codemirror_mode": {
    "name": "ipython",
    "version": 3
   },
   "file_extension": ".py",
   "mimetype": "text/x-python",
   "name": "python",
   "nbconvert_exporter": "python",
   "pygments_lexer": "ipython3",
   "version": "3.7.0"
  }
 },
 "nbformat": 4,
 "nbformat_minor": 2
}
