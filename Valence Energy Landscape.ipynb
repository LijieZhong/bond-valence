{
 "cells": [
  {
   "cell_type": "code",
   "execution_count": 1,
   "metadata": {},
   "outputs": [],
   "source": [
    "import numpy as np, pylab as plt, pandas as pd\n",
    "import ase, ase.io, itertools as itr, mendeleev\n",
    "from bvel_config import principleQuantumNumbers, covalentRadii, oxidationStates, atomicNumbers, atomicLabels, \\\n",
    "    D0_coeficients, alpha_coeficients, Rmin_coeficients, R0_coeficients"
   ]
  },
  {
   "cell_type": "code",
   "execution_count": 2,
   "metadata": {},
   "outputs": [],
   "source": [
    "from numpy import ravel_multi_index as rav"
   ]
  },
  {
   "cell_type": "code",
   "execution_count": 3,
   "metadata": {},
   "outputs": [],
   "source": [
    "alkali = 'Li'\n",
    "#lanthanide = 'Gd'"
   ]
  },
  {
   "cell_type": "code",
   "execution_count": 4,
   "metadata": {},
   "outputs": [],
   "source": [
    "cif = 'LTS_neutron.cif'"
   ]
  },
  {
   "cell_type": "code",
   "execution_count": 5,
   "metadata": {},
   "outputs": [],
   "source": [
    "cutoffRadii = 6."
   ]
  },
  {
   "cell_type": "code",
   "execution_count": 6,
   "metadata": {},
   "outputs": [],
   "source": [
    "def include_atomsFrom_nns_unitCells(scaledPositions):\n",
    "    nnsCoordinates = [np.array(i) for i in itr.product([-1,0,1],repeat=3)]\n",
    "    totalAtomsIncludingNNS = np.concatenate([scaledPositions + nnsCoordinate for nnsCoordinate in nnsCoordinates])\n",
    "    return totalAtomsIncludingNNS\n",
    "\n",
    "def combine_atomList(atomList):\n",
    "    combinedList = atomList[0]\n",
    "    for listItem in atomList:\n",
    "        combinedList += listItem\n",
    "    return combinedList\n",
    "\n",
    "def get_atomsFromSuperCell(atoms):\n",
    "    nnsCellCoordinates = [np.array(i) for i in itr.product([-1,0,1],repeat=3)]\n",
    "    neighborAtomsList = []\n",
    "    for nnsCellCoordinate in nnsCellCoordinates:\n",
    "        neighborAtomCoordinates = atoms.get_scaled_positions() + nnsCellCoordinate\n",
    "        neighborAtoms = atoms.copy()\n",
    "        neighborAtoms.set_scaled_positions(neighborAtomCoordinates)\n",
    "        neighborAtomsList.append(neighborAtoms)\n",
    "    superCellAtoms = combine_atomList(neighborAtomsList)\n",
    "    return superCellAtoms\n",
    "\n",
    "class Ions:\n",
    "    \n",
    "    def __init__(self,atoms):\n",
    "        self.atoms = get_atomsFromSuperCell(atoms)\n",
    "        \n",
    "    def get_ionsInCutoff(self,position,cutoff):\n",
    "        lowerBoundary = position - cutoff\n",
    "        upperBoundary = position + cutoff\n",
    "        inBoundary = np.all(((self.atoms.get_positions() < upperBoundary) & (self.atoms.get_positions() > lowerBoundary)),axis=1)\n",
    "        return self.atoms[inBoundary]\n",
    "    \n",
    "class UnitCell:\n",
    "    \n",
    "    def __init__(self,cif):\n",
    "        self.atoms = ase.io.read(cif)\n",
    "        self.latticeParameters = np.linalg.norm(self.atoms.cell,axis=1)\n",
    "        self.latticeVectors = self.atoms.cell\n",
    "        \n",
    "    def get_ionOfType(self,ionLabel):\n",
    "        atomicNumber = atomicNumbers[ionLabel]\n",
    "        atoms = self.atoms[self.atoms.numbers==atomicNumber]\n",
    "        ions = Ions(atoms = atoms)\n",
    "        return ions\n",
    "    \n",
    "    def get_multipleIonsOfType(self,ionLabelList):\n",
    "        atomicNumberList = [atomicNumbers[ionLabel] for ionLabel in ionLabelList]\n",
    "        indexOfIons = np.any([(self.atoms.numbers == atomicNumber) for atomicNumber in atomicNumberList],axis=0)\n",
    "        atoms = self.atoms[indexOfIons]\n",
    "        ions = Ions(atoms = atoms)\n",
    "        return ions"
   ]
  },
  {
   "cell_type": "code",
   "execution_count": 7,
   "metadata": {},
   "outputs": [
    {
     "name": "stderr",
     "output_type": "stream",
     "text": [
      "/Users/Jack/code/miniconda3/lib/python3.7/site-packages/ase/io/cif.py:125: UserWarning: Wrong number of tokens: ['?', \"#<--'Last\", 'name,', 'first', \"name'\"]\n",
      "  warnings.warn('Wrong number of tokens: {0}'.format(tokens))\n"
     ]
    }
   ],
   "source": [
    "unitCell = UnitCell(cif)\n",
    "mainIons = unitCell.get_ionOfType(alkali)\n",
    "negativeIons = unitCell.get_ionOfType('O')\n",
    "positiveIons = unitCell.get_multipleIonsOfType(['Si','La','Ta'])"
   ]
  },
  {
   "cell_type": "code",
   "execution_count": 23,
   "metadata": {},
   "outputs": [],
   "source": [
    "dx,dy,dz = 0.1,0.1,0.1\n",
    "resolution = np.array([dx,dy,dz])"
   ]
  },
  {
   "cell_type": "code",
   "execution_count": 24,
   "metadata": {},
   "outputs": [],
   "source": [
    "sizeOfValenceMismatchArray = tuple((unitCell.latticeParameters / resolution).astype(int))\n",
    "BVEL = np.ones(sizeOfValenceMismatchArray)"
   ]
  },
  {
   "cell_type": "code",
   "execution_count": 25,
   "metadata": {},
   "outputs": [
    {
     "data": {
      "text/plain": [
       "(87, 87, 136)"
      ]
     },
     "execution_count": 25,
     "metadata": {},
     "output_type": "execute_result"
    }
   ],
   "source": [
    "sizeOfValenceMismatchArray"
   ]
  },
  {
   "cell_type": "code",
   "execution_count": 26,
   "metadata": {},
   "outputs": [],
   "source": [
    "from scipy.special import erfc"
   ]
  },
  {
   "cell_type": "code",
   "execution_count": 27,
   "metadata": {},
   "outputs": [],
   "source": [
    "D0 = D0_coeficients[alkali]\n",
    "a = alpha_coeficients[alkali]\n",
    "Rmin = Rmin_coeficients[alkali]\n",
    "R0 = R0_coeficients[alkali]"
   ]
  },
  {
   "cell_type": "code",
   "execution_count": 28,
   "metadata": {},
   "outputs": [],
   "source": [
    "alkali_atomicNumber = atomicNumbers[alkali]\n",
    "rcovAlk = covalentRadii[alkali_atomicNumber]"
   ]
  },
  {
   "cell_type": "code",
   "execution_count": 29,
   "metadata": {},
   "outputs": [
    {
     "ename": "KeyboardInterrupt",
     "evalue": "",
     "output_type": "error",
     "traceback": [
      "\u001b[0;31m---------------------------------------------------------------------------\u001b[0m",
      "\u001b[0;31mKeyboardInterrupt\u001b[0m                         Traceback (most recent call last)",
      "\u001b[0;32m<ipython-input-29-04d6ce867baf>\u001b[0m in \u001b[0;36m<module>\u001b[0;34m\u001b[0m\n\u001b[1;32m      9\u001b[0m     \u001b[0mvoxelUnscaledPosition\u001b[0m \u001b[0;34m=\u001b[0m \u001b[0mnp\u001b[0m\u001b[0;34m.\u001b[0m\u001b[0mdot\u001b[0m\u001b[0;34m(\u001b[0m\u001b[0munitCell\u001b[0m\u001b[0;34m.\u001b[0m\u001b[0mlatticeVectors\u001b[0m\u001b[0;34m.\u001b[0m\u001b[0mT\u001b[0m\u001b[0;34m,\u001b[0m\u001b[0mvoxelScaledPosition\u001b[0m\u001b[0;34m)\u001b[0m\u001b[0;34m\u001b[0m\u001b[0m\n\u001b[1;32m     10\u001b[0m \u001b[0;34m\u001b[0m\u001b[0m\n\u001b[0;32m---> 11\u001b[0;31m     \u001b[0mnegativeIonsInCutoff\u001b[0m \u001b[0;34m=\u001b[0m \u001b[0mnegativeIons\u001b[0m\u001b[0;34m.\u001b[0m\u001b[0mget_ionsInCutoff\u001b[0m\u001b[0;34m(\u001b[0m\u001b[0mposition\u001b[0m\u001b[0;34m=\u001b[0m\u001b[0mvoxelUnscaledPosition\u001b[0m\u001b[0;34m,\u001b[0m\u001b[0mcutoff\u001b[0m\u001b[0;34m=\u001b[0m\u001b[0mcutoffRadii\u001b[0m\u001b[0;34m)\u001b[0m\u001b[0;34m\u001b[0m\u001b[0m\n\u001b[0m\u001b[1;32m     12\u001b[0m     \u001b[0mpositiveIonsInCutoff\u001b[0m \u001b[0;34m=\u001b[0m \u001b[0mpositiveIons\u001b[0m\u001b[0;34m.\u001b[0m\u001b[0mget_ionsInCutoff\u001b[0m\u001b[0;34m(\u001b[0m\u001b[0mposition\u001b[0m\u001b[0;34m=\u001b[0m\u001b[0mvoxelUnscaledPosition\u001b[0m\u001b[0;34m,\u001b[0m\u001b[0mcutoff\u001b[0m\u001b[0;34m=\u001b[0m\u001b[0mcutoffRadii\u001b[0m\u001b[0;34m)\u001b[0m\u001b[0;34m\u001b[0m\u001b[0m\n\u001b[1;32m     13\u001b[0m     \u001b[0;31m# the above needs to be changed to a position\u001b[0m\u001b[0;34m\u001b[0m\u001b[0;34m\u001b[0m\u001b[0m\n",
      "\u001b[0;32m<ipython-input-6-1fe34880769f>\u001b[0m in \u001b[0;36mget_ionsInCutoff\u001b[0;34m(self, position, cutoff)\u001b[0m\n\u001b[1;32m     30\u001b[0m         \u001b[0mupperBoundary\u001b[0m \u001b[0;34m=\u001b[0m \u001b[0mposition\u001b[0m \u001b[0;34m+\u001b[0m \u001b[0mcutoff\u001b[0m\u001b[0;34m\u001b[0m\u001b[0m\n\u001b[1;32m     31\u001b[0m         \u001b[0minBoundary\u001b[0m \u001b[0;34m=\u001b[0m \u001b[0mnp\u001b[0m\u001b[0;34m.\u001b[0m\u001b[0mall\u001b[0m\u001b[0;34m(\u001b[0m\u001b[0;34m(\u001b[0m\u001b[0;34m(\u001b[0m\u001b[0mself\u001b[0m\u001b[0;34m.\u001b[0m\u001b[0matoms\u001b[0m\u001b[0;34m.\u001b[0m\u001b[0mget_positions\u001b[0m\u001b[0;34m(\u001b[0m\u001b[0;34m)\u001b[0m \u001b[0;34m<\u001b[0m \u001b[0mupperBoundary\u001b[0m\u001b[0;34m)\u001b[0m \u001b[0;34m&\u001b[0m \u001b[0;34m(\u001b[0m\u001b[0mself\u001b[0m\u001b[0;34m.\u001b[0m\u001b[0matoms\u001b[0m\u001b[0;34m.\u001b[0m\u001b[0mget_positions\u001b[0m\u001b[0;34m(\u001b[0m\u001b[0;34m)\u001b[0m \u001b[0;34m>\u001b[0m \u001b[0mlowerBoundary\u001b[0m\u001b[0;34m)\u001b[0m\u001b[0;34m)\u001b[0m\u001b[0;34m,\u001b[0m\u001b[0maxis\u001b[0m\u001b[0;34m=\u001b[0m\u001b[0;36m1\u001b[0m\u001b[0;34m)\u001b[0m\u001b[0;34m\u001b[0m\u001b[0m\n\u001b[0;32m---> 32\u001b[0;31m         \u001b[0;32mreturn\u001b[0m \u001b[0mself\u001b[0m\u001b[0;34m.\u001b[0m\u001b[0matoms\u001b[0m\u001b[0;34m[\u001b[0m\u001b[0minBoundary\u001b[0m\u001b[0;34m]\u001b[0m\u001b[0;34m\u001b[0m\u001b[0m\n\u001b[0m\u001b[1;32m     33\u001b[0m \u001b[0;34m\u001b[0m\u001b[0m\n\u001b[1;32m     34\u001b[0m \u001b[0;32mclass\u001b[0m \u001b[0mUnitCell\u001b[0m\u001b[0;34m:\u001b[0m\u001b[0;34m\u001b[0m\u001b[0m\n",
      "\u001b[0;32m~/code/miniconda3/lib/python3.7/site-packages/ase/atoms.py\u001b[0m in \u001b[0;36m__getitem__\u001b[0;34m(self, i)\u001b[0m\n\u001b[1;32m    948\u001b[0m         atoms = self.__class__(cell=self._cell, pbc=self._pbc, info=self.info,\n\u001b[1;32m    949\u001b[0m                                \u001b[0;31m# should be communicated to the slice as well\u001b[0m\u001b[0;34m\u001b[0m\u001b[0;34m\u001b[0m\u001b[0m\n\u001b[0;32m--> 950\u001b[0;31m                                celldisp=self._celldisp)\n\u001b[0m\u001b[1;32m    951\u001b[0m         \u001b[0;31m# TODO: Do we need to shuffle indices in adsorbate_info too?\u001b[0m\u001b[0;34m\u001b[0m\u001b[0;34m\u001b[0m\u001b[0m\n\u001b[1;32m    952\u001b[0m \u001b[0;34m\u001b[0m\u001b[0m\n",
      "\u001b[0;32m~/code/miniconda3/lib/python3.7/site-packages/ase/atoms.py\u001b[0m in \u001b[0;36m__init__\u001b[0;34m(self, symbols, positions, numbers, tags, momenta, masses, magmoms, charges, scaled_positions, cell, pbc, celldisp, constraint, calculator, info)\u001b[0m\n\u001b[1;32m    236\u001b[0m             \u001b[0mself\u001b[0m\u001b[0;34m.\u001b[0m\u001b[0minfo\u001b[0m \u001b[0;34m=\u001b[0m \u001b[0;34m{\u001b[0m\u001b[0;34m}\u001b[0m\u001b[0;34m\u001b[0m\u001b[0m\n\u001b[1;32m    237\u001b[0m         \u001b[0;32melse\u001b[0m\u001b[0;34m:\u001b[0m\u001b[0;34m\u001b[0m\u001b[0m\n\u001b[0;32m--> 238\u001b[0;31m             \u001b[0mself\u001b[0m\u001b[0;34m.\u001b[0m\u001b[0minfo\u001b[0m \u001b[0;34m=\u001b[0m \u001b[0mdict\u001b[0m\u001b[0;34m(\u001b[0m\u001b[0minfo\u001b[0m\u001b[0;34m)\u001b[0m\u001b[0;34m\u001b[0m\u001b[0m\n\u001b[0m\u001b[1;32m    239\u001b[0m \u001b[0;34m\u001b[0m\u001b[0m\n\u001b[1;32m    240\u001b[0m         \u001b[0mself\u001b[0m\u001b[0;34m.\u001b[0m\u001b[0mset_calculator\u001b[0m\u001b[0;34m(\u001b[0m\u001b[0mcalculator\u001b[0m\u001b[0;34m)\u001b[0m\u001b[0;34m\u001b[0m\u001b[0m\n",
      "\u001b[0;31mKeyboardInterrupt\u001b[0m: "
     ]
    }
   ],
   "source": [
    "numberOfVoxels = len(BVEL.flatten())\n",
    "repulsive = []\n",
    "attractive = []\n",
    "#for voxelFlatIndex in range(10):\n",
    "for voxelFlatIndex in range(numberOfVoxels):\n",
    "    voxelTupleIndex = np.unravel_index(voxelFlatIndex,BVEL.shape)\n",
    "    # I don't understand this\n",
    "    voxelScaledPosition = np.array(voxelTupleIndex)/np.array(BVEL.shape).astype(float)\n",
    "    voxelUnscaledPosition = np.dot(unitCell.latticeVectors.T,voxelScaledPosition)\n",
    "    \n",
    "    negativeIonsInCutoff = negativeIons.get_ionsInCutoff(position=voxelUnscaledPosition,cutoff=cutoffRadii)\n",
    "    positiveIonsInCutoff = positiveIons.get_ionsInCutoff(position=voxelUnscaledPosition,cutoff=cutoffRadii)\n",
    "    # the above needs to be changed to a position\n",
    "\n",
    "    # ------------- get attractive variables ---------------------    \n",
    "    \n",
    "    distanceToNegativeIons = np.linalg.norm(negativeIonsInCutoff.get_positions() \\\n",
    "                                                   - voxelUnscaledPosition, axis=1)\n",
    "    Ri = distanceToNegativeIons\n",
    "    cutIndex = Ri<cutoffRadii\n",
    "    \n",
    "    Ri = Ri[cutIndex]\n",
    "    negativeIonsInCutoff.distance = Ri\n",
    "    #print(len(Ri))\n",
    "    \n",
    "    # ------------- calculate attractive term ---------------------\n",
    "    \n",
    "    smin = np.exp(a*(R0-Rmin))\n",
    "    \n",
    "    Eattractive_i = D0 * ( (1./smin**2) * ( np.exp(a*(R0-Ri)) - smin )**2 - 1 )\n",
    "    attractiveTerm = np.sum(Eattractive_i)\n",
    "    attractive.append(attractiveTerm)\n",
    "    \n",
    "    \n",
    "    # ------------- get repulsive variables ---------------------\n",
    "    \n",
    "    positiveIonsInCutoff.distance = np.linalg.norm(positiveIonsInCutoff.get_positions() \\\n",
    "                                                   -voxelUnscaledPosition, axis=1)\n",
    "    Rj = positiveIonsInCutoff.distance\n",
    "    cutIndex = Rj<cutoffRadii\n",
    "    #print(len(Rj))\n",
    "    \n",
    "    positiveIonsInCutoff.distance = positiveIonsInCutoff.distance[cutIndex]\n",
    "    \n",
    "    positiveIonsInCutoff.covalentRadii = np.array([covalentRadii[atomicNumber] \\\n",
    "                                        for atomicNumber in positiveIonsInCutoff.numbers])[cutIndex]\n",
    "\n",
    "    positiveIonsInCutoff.principleQuantumNumbers = np.array([principleQuantumNumbers[atomicNumber] \\\n",
    "                                        for atomicNumber in positiveIonsInCutoff.numbers])[cutIndex]\n",
    "    \n",
    "    positiveIonsInCutoff.oxidationStates = np.array([oxidationStates[atomicNumber] \\\n",
    "                                        for atomicNumber in positiveIonsInCutoff.numbers])[cutIndex]\n",
    "    \n",
    "    # ------------- calculate repulsive term ---------------------\n",
    "    \n",
    "    C = 14.40198 # conversion factor\n",
    "    d = positiveIonsInCutoff.distance\n",
    "    q = positiveIonsInCutoff.oxidationStates\n",
    "    n = positiveIonsInCutoff.principleQuantumNumbers\n",
    "    r = positiveIonsInCutoff.covalentRadii\n",
    "    p = 0.74 * (rcovAlk + r)\n",
    "    \n",
    "    Erepulsive_j = C*q/(2*np.sqrt(2*n)) * (erfc(d/p) - erfc(cutoffRadii/p))\n",
    "    repulsiveTerm = np.sum( Erepulsive_j )\n",
    "    repulsive.append(repulsiveTerm)\n",
    "    \n",
    "    # ------------- sum it up ---------------------\n",
    "    \n",
    "    BVEL[voxelTupleIndex] = attractiveTerm + repulsiveTerm \n",
    "    \n",
    "    "
   ]
  },
  {
   "cell_type": "code",
   "execution_count": null,
   "metadata": {},
   "outputs": [],
   "source": [
    "import matplotlib as mpl\n",
    "mpl.rcParams['figure.facecolor'] = 'w'"
   ]
  },
  {
   "cell_type": "code",
   "execution_count": null,
   "metadata": {},
   "outputs": [],
   "source": [
    "8.99e9 * 1e10 * (1.602e-19)"
   ]
  },
  {
   "cell_type": "code",
   "execution_count": null,
   "metadata": {},
   "outputs": [],
   "source": [
    "plt.rc('font', **{'family' : 'serif', 'size'   : 18})\n",
    "fig,ax = plt.subplots(1,1,figsize=(7.5,5))\n",
    "plt.setp(ax.spines.values(), linewidth=2)\n",
    "\n",
    "ax.plot(repulsive)\n",
    "ax2 = ax.twinx()\n",
    "ax2.plot(attractive,color='C1')"
   ]
  },
  {
   "cell_type": "code",
   "execution_count": null,
   "metadata": {},
   "outputs": [],
   "source": [
    "BVEL = BVEL - BVEL.min()"
   ]
  },
  {
   "cell_type": "code",
   "execution_count": null,
   "metadata": {},
   "outputs": [],
   "source": [
    "#output_filename = 'myBVEL.grd'\n",
    "#output_filename = cif.split('.')[0] + '.grd'\n",
    "output_filename = cif.split('.')[0] +'_shift'+ '.grd'\n",
    "\n",
    "with open(output_filename,\"w\") as savefile:\n",
    "    savefile.write(\"Bond Valence Sum Difference\\r\") # Title\n",
    "    from ase.geometry import cell_to_cellpar\n",
    "    cellParams = cell_to_cellpar(unitCell.latticeVectors) # get ABC alpha, beta, gamma\n",
    "    savefile.write(\" \".join([str(k) for k in cellParams])+\"\\r\" )\n",
    "    savefile.write(\" \".join([str(k) for k in BVEL.shape])+\"\\r\" )\n",
    "    for i in np.nditer(BVEL.flatten()):\n",
    "        savefile.write(\"%.6f  \"%(i)) # Write each valence difference value"
   ]
  },
  {
   "cell_type": "code",
   "execution_count": null,
   "metadata": {},
   "outputs": [],
   "source": []
  },
  {
   "cell_type": "code",
   "execution_count": null,
   "metadata": {},
   "outputs": [],
   "source": []
  },
  {
   "cell_type": "code",
   "execution_count": 78,
   "metadata": {},
   "outputs": [],
   "source": [
    "import scipy.ndimage.measurements as mes\n",
    "import numpy as np\n",
    "\n",
    "def testPerc(z,volfrac=False,dimensions=False):\n",
    "    if not np.any(z):\n",
    "        return False\n",
    "    lw, num = mes.label(z)\n",
    "    len(np.unique(lw))-1 # number of clusters\n",
    "    area = mes.sum(z, lw, index=np.arange(lw.max() + 1))\n",
    "    areaImg = area[lw] + lw*0.01\n",
    "    sliced = mes.find_objects(areaImg == areaImg.max())\n",
    "    cluster_dimensions = np.array([int(sliced[0][i].stop-sliced[0][i].start) for i in range(len(z.shape))])\n",
    "    if not dimensions and not volfrac:\n",
    "        doesPercolate = np.any(((cluster_dimensions/np.array(z.shape))).astype(int))\n",
    "        return doesPercolate\n",
    "    elif volfrac:\n",
    "        # volume of the network / volume of the box around it.\n",
    "        return areaImg.max()/np.prod(cluster_dimensions)\n",
    "    elif dimensions:\n",
    "        # network dimensions / dimensions of the cell\n",
    "        return cluster_dimensions/np.array(z.shape).astype(float)    \n",
    "\n",
    "def threshold(r):\n",
    "    p = r.min().round(2); thresh = False\n",
    "    while p < 2 and not thresh:\n",
    "        z2 = r < p\n",
    "        tp = testPerc(z2)\n",
    "        if tp:\n",
    "            thresh = p\n",
    "        else:\n",
    "            p+=0.01\n",
    "    return p"
   ]
  },
  {
   "cell_type": "code",
   "execution_count": 113,
   "metadata": {},
   "outputs": [
    {
     "data": {
      "text/plain": [
       "0.8900000000000006"
      ]
     },
     "execution_count": 113,
     "metadata": {},
     "output_type": "execute_result"
    }
   ],
   "source": [
    "threshold(BVEL)"
   ]
  },
  {
   "cell_type": "code",
   "execution_count": null,
   "metadata": {},
   "outputs": [],
   "source": []
  },
  {
   "cell_type": "code",
   "execution_count": 61,
   "metadata": {},
   "outputs": [
    {
     "data": {
      "text/plain": [
       "0.0"
      ]
     },
     "execution_count": 61,
     "metadata": {},
     "output_type": "execute_result"
    }
   ],
   "source": [
    "BVEL.min()"
   ]
  },
  {
   "cell_type": "code",
   "execution_count": 67,
   "metadata": {},
   "outputs": [
    {
     "data": {
      "text/plain": [
       "True"
      ]
     },
     "execution_count": 67,
     "metadata": {},
     "output_type": "execute_result"
    }
   ],
   "source": [
    "np.any(BVEL == 0.0)"
   ]
  },
  {
   "cell_type": "code",
   "execution_count": 68,
   "metadata": {},
   "outputs": [
    {
     "data": {
      "text/plain": [
       "True"
      ]
     },
     "execution_count": 68,
     "metadata": {},
     "output_type": "execute_result"
    }
   ],
   "source": [
    "testPerc(BVEL==0.00)"
   ]
  },
  {
   "cell_type": "code",
   "execution_count": null,
   "metadata": {},
   "outputs": [],
   "source": []
  }
 ],
 "metadata": {
  "kernelspec": {
   "display_name": "Conda Python 3",
   "language": "python",
   "name": "python3"
  },
  "language_info": {
   "codemirror_mode": {
    "name": "ipython",
    "version": 3
   },
   "file_extension": ".py",
   "mimetype": "text/x-python",
   "name": "python",
   "nbconvert_exporter": "python",
   "pygments_lexer": "ipython3",
   "version": "3.7.0"
  }
 },
 "nbformat": 4,
 "nbformat_minor": 2
}
